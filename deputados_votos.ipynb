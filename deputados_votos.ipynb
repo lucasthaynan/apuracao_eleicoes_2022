{
 "cells": [
  {
   "cell_type": "code",
   "execution_count": 7,
   "metadata": {},
   "outputs": [],
   "source": [
    "import requests\n",
    "import pandas as pd"
   ]
  },
  {
   "cell_type": "code",
   "execution_count": 8,
   "metadata": {},
   "outputs": [],
   "source": [
    "ufs = pd.read_csv('ufs.csv')\n",
    "lista_ufs = ufs.values.tolist()"
   ]
  },
  {
   "cell_type": "markdown",
   "metadata": {},
   "source": [
    "### Todos candidatos federais"
   ]
  },
  {
   "cell_type": "code",
   "execution_count": 3,
   "metadata": {},
   "outputs": [],
   "source": [
    "lista_candidatos_federais = []\n",
    "\n",
    "for uf in lista_ufs:\n",
    "    \n",
    "    sigla_uf = (uf[0]).lower()\n",
    "    url = f\"https://resultados.tse.jus.br/oficial/ele2022/546/dados-simplificados/{sigla_uf}/{sigla_uf}-c0006-e000546-r.json\"\n",
    "    requisicao = requests.get(url)\n",
    "    dados_federais = requisicao.json()\n",
    "    dados_federais = dados_federais[\"cand\"]\n",
    "    for candidato in dados_federais:\n",
    "\n",
    "        lista_candidatos_federais.append({\n",
    "            \"uf\": uf[0],\n",
    "            \"cod_canditato\": candidato[\"sqcand\"],\n",
    "            \"num_canditato\": candidato[\"n\"],\n",
    "            \"nome\": candidato[\"nm\"],\n",
    "            \"coligacao\": candidato[\"cc\"],\n",
    "            \"situacao\": candidato[\"st\"],\n",
    "            \"situacao_votos\": candidato[\"dvt\"],\n",
    "            \"votos_totais\": candidato[\"vap\"],\n",
    "            \"perc_votos_totais\": candidato[\"pvap\"],\n",
    "        })\n"
   ]
  },
  {
   "cell_type": "code",
   "execution_count": 9,
   "metadata": {},
   "outputs": [],
   "source": [
    "df_dados = pd.DataFrame(lista_candidatos_federais)\n",
    "df_dados.to_csv(\"dados/deputados_federais_votos_2022.csv\")"
   ]
  },
  {
   "cell_type": "markdown",
   "metadata": {},
   "source": [
    "### Candidatos deputados estaduais"
   ]
  },
  {
   "cell_type": "code",
   "execution_count": 10,
   "metadata": {},
   "outputs": [],
   "source": [
    "lista_candidatos_estaduais = []\n",
    "\n",
    "for uf in lista_ufs:\n",
    "    sigla_uf = (uf[0]).lower()\n",
    "    url = f\"https://resultados.tse.jus.br/oficial/ele2022/546/dados-simplificados/{sigla_uf}/{sigla_uf}-c0007-e000546-r.json\"\n",
    "    \n",
    "    try:\n",
    "        requisicao = requests.get(url)\n",
    "\n",
    "        dados_estaduais = requisicao.json()\n",
    "        dados_estaduais = dados_estaduais[\"cand\"]\n",
    "\n",
    "        for candidato in dados_estaduais:\n",
    "\n",
    "            lista_candidatos_estaduais.append({\n",
    "                \"uf\": uf[0],\n",
    "                \"cod_canditato\": candidato[\"sqcand\"],\n",
    "                \"num_canditato\": candidato[\"n\"],\n",
    "                \"nome\": candidato[\"nm\"],\n",
    "                \"coligacao\": candidato[\"cc\"],\n",
    "                \"situacao\": candidato[\"st\"],\n",
    "                \"situacao_votos\": candidato[\"dvt\"],\n",
    "                \"votos_totais\": candidato[\"vap\"],\n",
    "                \"perc_votos_totais\": candidato[\"pvap\"],\n",
    "            })\n",
    "\n",
    "    except ValueError:\n",
    "        #print(\"Erro na requisicao\")\n",
    "        #print(uf[0])\n",
    "        #print(requisicao)\n",
    "        continue\n",
    "    \n"
   ]
  },
  {
   "cell_type": "code",
   "execution_count": 11,
   "metadata": {},
   "outputs": [],
   "source": [
    "df_dados = pd.DataFrame(lista_candidatos_estaduais)\n",
    "df_dados.to_csv(\"dados/deputados_estaduais_votos_2022.csv\")"
   ]
  }
 ],
 "metadata": {
  "kernelspec": {
   "display_name": "Python 3.9.12 ('base')",
   "language": "python",
   "name": "python3"
  },
  "language_info": {
   "codemirror_mode": {
    "name": "ipython",
    "version": 3
   },
   "file_extension": ".py",
   "mimetype": "text/x-python",
   "name": "python",
   "nbconvert_exporter": "python",
   "pygments_lexer": "ipython3",
   "version": "3.9.12"
  },
  "orig_nbformat": 4,
  "vscode": {
   "interpreter": {
    "hash": "6c01efea219ea0303b6e6cd1897665114cc62146ed112ea21ec489238fdae255"
   }
  }
 },
 "nbformat": 4,
 "nbformat_minor": 2
}
