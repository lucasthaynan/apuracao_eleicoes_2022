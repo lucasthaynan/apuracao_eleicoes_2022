{
 "cells": [
  {
   "cell_type": "code",
   "execution_count": 1,
   "metadata": {},
   "outputs": [],
   "source": [
    "import requests\n",
    "import pandas as pd"
   ]
  },
  {
   "cell_type": "code",
   "execution_count": 52,
   "metadata": {},
   "outputs": [],
   "source": [
    "url_uf = \"https://resultados.tse.jus.br/oficial/ele2022/544/config/mun-e000544-cm.json\"\n",
    "requisicao_uf = requests.get(url_uf)\n",
    "requisicao_uf = requisicao_uf.json()"
   ]
  },
  {
   "cell_type": "code",
   "execution_count": null,
   "metadata": {},
   "outputs": [],
   "source": [
    "lista_candidatos = [] \n",
    "\n",
    "for uf in requisicao_uf[\"abr\"]:\n",
    "    \n",
    "    print(uf[\"ds\"])\n",
    "\n",
    "    sigla_uf = uf[\"cd\"]\n",
    "    estado = uf[\"ds\"]\n",
    "\n",
    "    print(\"------\")\n",
    "    for municipio in uf[\"mu\"]:\n",
    "\n",
    "        nome_mun = municipio[\"nm\"]\n",
    "        cod_tse = municipio[\"cd\"]\n",
    "        cod_ibge = municipio[\"cdi\"]\n",
    "\n",
    "        url_mun = f\"https://resultados.tse.jus.br/oficial/ele2022/544/dados/{sigla_uf.lower()}/{sigla_uf.lower()}{cod_tse}-c0001-e000544-v.json\"\n",
    "        requisicao_mun = requests.get(url_mun)\n",
    "        requisicao_mun = requisicao_mun.json()\n",
    "\n",
    "        for candidato in requisicao_mun[\"abr\"][0][\"cand\"]:\n",
    "\n",
    "            lista_candidatos.append({\n",
    "                \"uf\": sigla_uf,\n",
    "                \"estado\": estado,\n",
    "                \"nome_mun\": nome_mun,\n",
    "                \"cod_tse\": cod_tse,\n",
    "                \"cod_ibge\": cod_ibge,\n",
    "                \"posicao_canditato\": candidato[\"seq\"],\n",
    "                \"num_canditato\": candidato[\"n\"],\n",
    "                \"situacao\": candidato[\"st\"],\n",
    "                \"votos_totais\": candidato[\"vap\"],\n",
    "                \"perc_votos_totais\": candidato[\"pvap\"],\n",
    "            })\n"
   ]
  },
  {
   "cell_type": "code",
   "execution_count": 61,
   "metadata": {},
   "outputs": [
    {
     "name": "stdout",
     "output_type": "stream",
     "text": [
      "63261\n"
     ]
    }
   ],
   "source": [
    "print(len(lista_candidatos))"
   ]
  },
  {
   "cell_type": "code",
   "execution_count": 62,
   "metadata": {},
   "outputs": [],
   "source": [
    "df_dados = pd.DataFrame(lista_candidatos)\n",
    "df_dados.to_csv(\"votos_presidente_municipios_2022.csv\")"
   ]
  }
 ],
 "metadata": {
  "kernelspec": {
   "display_name": "Python 3.9.12 ('base')",
   "language": "python",
   "name": "python3"
  },
  "language_info": {
   "codemirror_mode": {
    "name": "ipython",
    "version": 3
   },
   "file_extension": ".py",
   "mimetype": "text/x-python",
   "name": "python",
   "nbconvert_exporter": "python",
   "pygments_lexer": "ipython3",
   "version": "3.9.12"
  },
  "orig_nbformat": 4,
  "vscode": {
   "interpreter": {
    "hash": "6c01efea219ea0303b6e6cd1897665114cc62146ed112ea21ec489238fdae255"
   }
  }
 },
 "nbformat": 4,
 "nbformat_minor": 2
}
